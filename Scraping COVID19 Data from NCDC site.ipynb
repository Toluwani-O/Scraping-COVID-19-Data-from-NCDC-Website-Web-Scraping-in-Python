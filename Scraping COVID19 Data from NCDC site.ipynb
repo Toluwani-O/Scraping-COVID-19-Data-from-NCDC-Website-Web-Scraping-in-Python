{
 "cells": [
  {
   "cell_type": "markdown",
   "id": "fc2e6d61",
   "metadata": {},
   "source": [
    "# NCDC Website scrap\n",
    "\n",
    "\n",
    "Website - https://covid19.ncdc.gov.ng/"
   ]
  },
  {
   "cell_type": "markdown",
   "id": "f42e7361",
   "metadata": {},
   "source": [
    "## Step 1 - Importing beautifulsoup and request"
   ]
  },
  {
   "cell_type": "code",
   "execution_count": 3,
   "id": "4b3b4eb2",
   "metadata": {},
   "outputs": [],
   "source": [
    "from bs4 import BeautifulSoup\n",
    "import requests"
   ]
  },
  {
   "cell_type": "markdown",
   "id": "7bd4f3c3",
   "metadata": {},
   "source": [
    "## Step 2 - Getting NCDC url and using both request and beautifulsoup library to get text data"
   ]
  },
  {
   "cell_type": "code",
   "execution_count": 4,
   "id": "680474f7",
   "metadata": {},
   "outputs": [],
   "source": [
    "url = 'https://covid19.ncdc.gov.ng/'\n",
    "\n",
    "page = requests.get(url)\n",
    "\n",
    "soup = BeautifulSoup(page.text, 'html')"
   ]
  },
  {
   "cell_type": "code",
   "execution_count": 72,
   "id": "b0e20af1",
   "metadata": {},
   "outputs": [],
   "source": [
    "# Print out the soup to view the data extracted\n",
    "print(soup)"
   ]
  },
  {
   "cell_type": "code",
   "execution_count": 73,
   "id": "11eee848",
   "metadata": {},
   "outputs": [],
   "source": [
    "# Find the table that contains the information needed\n",
    "soup.find('table')"
   ]
  },
  {
   "cell_type": "code",
   "execution_count": 7,
   "id": "99d9f563",
   "metadata": {},
   "outputs": [],
   "source": [
    "Table = soup.find('table')"
   ]
  },
  {
   "cell_type": "code",
   "execution_count": 74,
   "id": "198e8e62",
   "metadata": {},
   "outputs": [],
   "source": [
    "print(Table)"
   ]
  },
  {
   "cell_type": "code",
   "execution_count": 13,
   "id": "3bfceace",
   "metadata": {},
   "outputs": [
    {
     "data": {
      "text/plain": [
       "[<th>States Affected</th>,\n",
       " <th>No. of Cases (Lab Confirmed)</th>,\n",
       " <th>No. of Cases (on admission)</th>,\n",
       " <th>No. Discharged</th>,\n",
       " <th>No. of Deaths</th>]"
      ]
     },
     "execution_count": 13,
     "metadata": {},
     "output_type": "execute_result"
    }
   ],
   "source": [
    "#Finding all the columns(th tag)\n",
    "soup.find_all('th')"
   ]
  },
  {
   "cell_type": "code",
   "execution_count": 14,
   "id": "920a9a0f",
   "metadata": {},
   "outputs": [],
   "source": [
    "Covid19_Titles = soup.find_all('th')"
   ]
  },
  {
   "cell_type": "code",
   "execution_count": 15,
   "id": "aa3e1554",
   "metadata": {},
   "outputs": [
    {
     "name": "stdout",
     "output_type": "stream",
     "text": [
      "[<th>States Affected</th>, <th>No. of Cases (Lab Confirmed)</th>, <th>No. of Cases (on admission)</th>, <th>No. Discharged</th>, <th>No. of Deaths</th>]\n"
     ]
    }
   ],
   "source": [
    "print(Covid19_Titles)"
   ]
  },
  {
   "cell_type": "code",
   "execution_count": 17,
   "id": "3a8ac75f",
   "metadata": {},
   "outputs": [],
   "source": [
    "Covid19_Table_titles =[title.text for title in Covid19_Titles]"
   ]
  },
  {
   "cell_type": "code",
   "execution_count": 18,
   "id": "426ba304",
   "metadata": {},
   "outputs": [
    {
     "name": "stdout",
     "output_type": "stream",
     "text": [
      "['States Affected', 'No. of Cases (Lab Confirmed)', 'No. of Cases (on admission)', 'No. Discharged', 'No. of Deaths']\n"
     ]
    }
   ],
   "source": [
    "print(Covid19_Table_titles)"
   ]
  },
  {
   "cell_type": "markdown",
   "id": "ab04680e",
   "metadata": {},
   "source": [
    "## Step 3 - Import pandas to create a dataframe"
   ]
  },
  {
   "cell_type": "code",
   "execution_count": 19,
   "id": "91e1d9c5",
   "metadata": {},
   "outputs": [],
   "source": [
    "#import pandas to create dataframe\n",
    "import pandas as pd"
   ]
  },
  {
   "cell_type": "code",
   "execution_count": 23,
   "id": "f463c794",
   "metadata": {},
   "outputs": [
    {
     "data": {
      "text/html": [
       "<div>\n",
       "<style scoped>\n",
       "    .dataframe tbody tr th:only-of-type {\n",
       "        vertical-align: middle;\n",
       "    }\n",
       "\n",
       "    .dataframe tbody tr th {\n",
       "        vertical-align: top;\n",
       "    }\n",
       "\n",
       "    .dataframe thead th {\n",
       "        text-align: right;\n",
       "    }\n",
       "</style>\n",
       "<table border=\"1\" class=\"dataframe\">\n",
       "  <thead>\n",
       "    <tr style=\"text-align: right;\">\n",
       "      <th></th>\n",
       "      <th>States Affected</th>\n",
       "      <th>No. of Cases (Lab Confirmed)</th>\n",
       "      <th>No. of Cases (on admission)</th>\n",
       "      <th>No. Discharged</th>\n",
       "      <th>No. of Deaths</th>\n",
       "    </tr>\n",
       "  </thead>\n",
       "  <tbody>\n",
       "  </tbody>\n",
       "</table>\n",
       "</div>"
      ],
      "text/plain": [
       "Empty DataFrame\n",
       "Columns: [States Affected, No. of Cases (Lab Confirmed), No. of Cases (on admission), No. Discharged, No. of Deaths]\n",
       "Index: []"
      ]
     },
     "execution_count": 23,
     "metadata": {},
     "output_type": "execute_result"
    }
   ],
   "source": [
    "df= pd.DataFrame(columns = Covid19_Table_titles)\n",
    "df"
   ]
  },
  {
   "cell_type": "code",
   "execution_count": 58,
   "id": "8a339833",
   "metadata": {},
   "outputs": [],
   "source": [
    "column_data =Table.find_all('td')"
   ]
  },
  {
   "cell_type": "code",
   "execution_count": 60,
   "id": "5a62c76c",
   "metadata": {},
   "outputs": [
    {
     "name": "stdout",
     "output_type": "stream",
     "text": [
      "185\n"
     ]
    }
   ],
   "source": [
    "Covid19_row = [data.text.strip() for data in column_data]\n",
    "print(len(Covid19_row))"
   ]
  },
  {
   "cell_type": "code",
   "execution_count": 63,
   "id": "7d5dfe92",
   "metadata": {},
   "outputs": [],
   "source": [
    "# Import numpy libary \n",
    "import numpy as np"
   ]
  },
  {
   "cell_type": "code",
   "execution_count": 64,
   "id": "a32af0b0",
   "metadata": {},
   "outputs": [
    {
     "data": {
      "text/plain": [
       "array([['Lagos', '104,286', '1,143', '102,372', '771'],\n",
       "       ['FCT', '29,535', '9', '29,277', '249'],\n",
       "       ['Rivers', '18,112', '-3', '17,960', '155'],\n",
       "       ['Kaduna', '11,675', '3', '11,583', '89'],\n",
       "       ['Plateau', '10,365', '4', '10,286', '75'],\n",
       "       ['Oyo', '10,352', '0', '10,150', '202'],\n",
       "       ['Edo', '7,928', '0', '7,606', '322'],\n",
       "       ['Delta', '5,858', '576', '5,170', '112'],\n",
       "       ['Ogun', '5,810', '11', '5,717', '82'],\n",
       "       ['Kano', '5,429', '11', '5,291', '127'],\n",
       "       ['Ondo', '5,173', '315', '4,749', '109'],\n",
       "       ['Akwa Ibom', '5,010', '6', '4,960', '44'],\n",
       "       ['Kwara', '4,691', '452', '4,175', '64'],\n",
       "       ['Gombe', '3,313', '8', '3,239', '66'],\n",
       "       ['Osun', '3,311', '29', '3,190', '92'],\n",
       "       ['Enugu', '2,952', '13', '2,910', '29'],\n",
       "       ['Nasarawa', '2,853', '469', '2,345', '39'],\n",
       "       ['Anambra', '2,825', '46', '2,760', '19'],\n",
       "       ['Imo', '2,691', '3', '2,630', '58'],\n",
       "       ['Ekiti', '2,466', '0', '2,438', '28'],\n",
       "       ['Katsina', '2,418', '0', '2,381', '37'],\n",
       "       ['Benue', '2,317', '88', '2,204', '25'],\n",
       "       ['Abia', '2,263', '0', '2,229', '34'],\n",
       "       ['Ebonyi', '2,064', '28', '2,004', '32'],\n",
       "       ['Bauchi', '2,028', '2', '2,002', '24'],\n",
       "       ['Borno', '1,629', '5', '1,580', '44'],\n",
       "       ['Taraba', '1,517', '32', '1,451', '34'],\n",
       "       ['Bayelsa', '1,373', '2', '1,343', '28'],\n",
       "       ['Adamawa', '1,312', '134', '1,140', '38'],\n",
       "       ['Niger', '1,183', '165', '998', '20'],\n",
       "       ['Cross River', '947', '0', '922', '25'],\n",
       "       ['Sokoto', '822', '0', '794', '28'],\n",
       "       ['Jigawa', '669', '2', '649', '18'],\n",
       "       ['Yobe', '638', '4', '625', '9'],\n",
       "       ['Kebbi', '480', '10', '454', '16'],\n",
       "       ['Zamfara', '375', '0', '366', '9'],\n",
       "       ['Kogi', '5', '0', '3', '2']], dtype='<U11')"
      ]
     },
     "execution_count": 64,
     "metadata": {},
     "output_type": "execute_result"
    }
   ],
   "source": [
    "#Reshape our list to get a suitable shape for a 5 columns\n",
    "rows = len(Covid19_row) // 5\n",
    "Covid19_rows = np.array(Covid19_row).reshape(rows,5)\n",
    "Covid19_rows"
   ]
  },
  {
   "cell_type": "code",
   "execution_count": 70,
   "id": "7f0ee423",
   "metadata": {},
   "outputs": [
    {
     "data": {
      "text/html": [
       "<div>\n",
       "<style scoped>\n",
       "    .dataframe tbody tr th:only-of-type {\n",
       "        vertical-align: middle;\n",
       "    }\n",
       "\n",
       "    .dataframe tbody tr th {\n",
       "        vertical-align: top;\n",
       "    }\n",
       "\n",
       "    .dataframe thead th {\n",
       "        text-align: right;\n",
       "    }\n",
       "</style>\n",
       "<table border=\"1\" class=\"dataframe\">\n",
       "  <thead>\n",
       "    <tr style=\"text-align: right;\">\n",
       "      <th></th>\n",
       "      <th>States Affected</th>\n",
       "      <th>No. of Cases (Lab Confirmed)</th>\n",
       "      <th>No. of Cases (on admission)</th>\n",
       "      <th>No. Discharged</th>\n",
       "      <th>No. of Deaths</th>\n",
       "    </tr>\n",
       "  </thead>\n",
       "  <tbody>\n",
       "    <tr>\n",
       "      <th>0</th>\n",
       "      <td>Lagos</td>\n",
       "      <td>104,286</td>\n",
       "      <td>1,143</td>\n",
       "      <td>102,372</td>\n",
       "      <td>771</td>\n",
       "    </tr>\n",
       "    <tr>\n",
       "      <th>1</th>\n",
       "      <td>FCT</td>\n",
       "      <td>29,535</td>\n",
       "      <td>9</td>\n",
       "      <td>29,277</td>\n",
       "      <td>249</td>\n",
       "    </tr>\n",
       "    <tr>\n",
       "      <th>2</th>\n",
       "      <td>Rivers</td>\n",
       "      <td>18,112</td>\n",
       "      <td>-3</td>\n",
       "      <td>17,960</td>\n",
       "      <td>155</td>\n",
       "    </tr>\n",
       "    <tr>\n",
       "      <th>3</th>\n",
       "      <td>Kaduna</td>\n",
       "      <td>11,675</td>\n",
       "      <td>3</td>\n",
       "      <td>11,583</td>\n",
       "      <td>89</td>\n",
       "    </tr>\n",
       "    <tr>\n",
       "      <th>4</th>\n",
       "      <td>Plateau</td>\n",
       "      <td>10,365</td>\n",
       "      <td>4</td>\n",
       "      <td>10,286</td>\n",
       "      <td>75</td>\n",
       "    </tr>\n",
       "    <tr>\n",
       "      <th>5</th>\n",
       "      <td>Oyo</td>\n",
       "      <td>10,352</td>\n",
       "      <td>0</td>\n",
       "      <td>10,150</td>\n",
       "      <td>202</td>\n",
       "    </tr>\n",
       "    <tr>\n",
       "      <th>6</th>\n",
       "      <td>Edo</td>\n",
       "      <td>7,928</td>\n",
       "      <td>0</td>\n",
       "      <td>7,606</td>\n",
       "      <td>322</td>\n",
       "    </tr>\n",
       "    <tr>\n",
       "      <th>7</th>\n",
       "      <td>Delta</td>\n",
       "      <td>5,858</td>\n",
       "      <td>576</td>\n",
       "      <td>5,170</td>\n",
       "      <td>112</td>\n",
       "    </tr>\n",
       "    <tr>\n",
       "      <th>8</th>\n",
       "      <td>Ogun</td>\n",
       "      <td>5,810</td>\n",
       "      <td>11</td>\n",
       "      <td>5,717</td>\n",
       "      <td>82</td>\n",
       "    </tr>\n",
       "    <tr>\n",
       "      <th>9</th>\n",
       "      <td>Kano</td>\n",
       "      <td>5,429</td>\n",
       "      <td>11</td>\n",
       "      <td>5,291</td>\n",
       "      <td>127</td>\n",
       "    </tr>\n",
       "    <tr>\n",
       "      <th>10</th>\n",
       "      <td>Ondo</td>\n",
       "      <td>5,173</td>\n",
       "      <td>315</td>\n",
       "      <td>4,749</td>\n",
       "      <td>109</td>\n",
       "    </tr>\n",
       "    <tr>\n",
       "      <th>11</th>\n",
       "      <td>Akwa Ibom</td>\n",
       "      <td>5,010</td>\n",
       "      <td>6</td>\n",
       "      <td>4,960</td>\n",
       "      <td>44</td>\n",
       "    </tr>\n",
       "    <tr>\n",
       "      <th>12</th>\n",
       "      <td>Kwara</td>\n",
       "      <td>4,691</td>\n",
       "      <td>452</td>\n",
       "      <td>4,175</td>\n",
       "      <td>64</td>\n",
       "    </tr>\n",
       "    <tr>\n",
       "      <th>13</th>\n",
       "      <td>Gombe</td>\n",
       "      <td>3,313</td>\n",
       "      <td>8</td>\n",
       "      <td>3,239</td>\n",
       "      <td>66</td>\n",
       "    </tr>\n",
       "    <tr>\n",
       "      <th>14</th>\n",
       "      <td>Osun</td>\n",
       "      <td>3,311</td>\n",
       "      <td>29</td>\n",
       "      <td>3,190</td>\n",
       "      <td>92</td>\n",
       "    </tr>\n",
       "    <tr>\n",
       "      <th>15</th>\n",
       "      <td>Enugu</td>\n",
       "      <td>2,952</td>\n",
       "      <td>13</td>\n",
       "      <td>2,910</td>\n",
       "      <td>29</td>\n",
       "    </tr>\n",
       "    <tr>\n",
       "      <th>16</th>\n",
       "      <td>Nasarawa</td>\n",
       "      <td>2,853</td>\n",
       "      <td>469</td>\n",
       "      <td>2,345</td>\n",
       "      <td>39</td>\n",
       "    </tr>\n",
       "    <tr>\n",
       "      <th>17</th>\n",
       "      <td>Anambra</td>\n",
       "      <td>2,825</td>\n",
       "      <td>46</td>\n",
       "      <td>2,760</td>\n",
       "      <td>19</td>\n",
       "    </tr>\n",
       "    <tr>\n",
       "      <th>18</th>\n",
       "      <td>Imo</td>\n",
       "      <td>2,691</td>\n",
       "      <td>3</td>\n",
       "      <td>2,630</td>\n",
       "      <td>58</td>\n",
       "    </tr>\n",
       "    <tr>\n",
       "      <th>19</th>\n",
       "      <td>Ekiti</td>\n",
       "      <td>2,466</td>\n",
       "      <td>0</td>\n",
       "      <td>2,438</td>\n",
       "      <td>28</td>\n",
       "    </tr>\n",
       "    <tr>\n",
       "      <th>20</th>\n",
       "      <td>Katsina</td>\n",
       "      <td>2,418</td>\n",
       "      <td>0</td>\n",
       "      <td>2,381</td>\n",
       "      <td>37</td>\n",
       "    </tr>\n",
       "    <tr>\n",
       "      <th>21</th>\n",
       "      <td>Benue</td>\n",
       "      <td>2,317</td>\n",
       "      <td>88</td>\n",
       "      <td>2,204</td>\n",
       "      <td>25</td>\n",
       "    </tr>\n",
       "    <tr>\n",
       "      <th>22</th>\n",
       "      <td>Abia</td>\n",
       "      <td>2,263</td>\n",
       "      <td>0</td>\n",
       "      <td>2,229</td>\n",
       "      <td>34</td>\n",
       "    </tr>\n",
       "    <tr>\n",
       "      <th>23</th>\n",
       "      <td>Ebonyi</td>\n",
       "      <td>2,064</td>\n",
       "      <td>28</td>\n",
       "      <td>2,004</td>\n",
       "      <td>32</td>\n",
       "    </tr>\n",
       "    <tr>\n",
       "      <th>24</th>\n",
       "      <td>Bauchi</td>\n",
       "      <td>2,028</td>\n",
       "      <td>2</td>\n",
       "      <td>2,002</td>\n",
       "      <td>24</td>\n",
       "    </tr>\n",
       "    <tr>\n",
       "      <th>25</th>\n",
       "      <td>Borno</td>\n",
       "      <td>1,629</td>\n",
       "      <td>5</td>\n",
       "      <td>1,580</td>\n",
       "      <td>44</td>\n",
       "    </tr>\n",
       "    <tr>\n",
       "      <th>26</th>\n",
       "      <td>Taraba</td>\n",
       "      <td>1,517</td>\n",
       "      <td>32</td>\n",
       "      <td>1,451</td>\n",
       "      <td>34</td>\n",
       "    </tr>\n",
       "    <tr>\n",
       "      <th>27</th>\n",
       "      <td>Bayelsa</td>\n",
       "      <td>1,373</td>\n",
       "      <td>2</td>\n",
       "      <td>1,343</td>\n",
       "      <td>28</td>\n",
       "    </tr>\n",
       "    <tr>\n",
       "      <th>28</th>\n",
       "      <td>Adamawa</td>\n",
       "      <td>1,312</td>\n",
       "      <td>134</td>\n",
       "      <td>1,140</td>\n",
       "      <td>38</td>\n",
       "    </tr>\n",
       "    <tr>\n",
       "      <th>29</th>\n",
       "      <td>Niger</td>\n",
       "      <td>1,183</td>\n",
       "      <td>165</td>\n",
       "      <td>998</td>\n",
       "      <td>20</td>\n",
       "    </tr>\n",
       "    <tr>\n",
       "      <th>30</th>\n",
       "      <td>Cross River</td>\n",
       "      <td>947</td>\n",
       "      <td>0</td>\n",
       "      <td>922</td>\n",
       "      <td>25</td>\n",
       "    </tr>\n",
       "    <tr>\n",
       "      <th>31</th>\n",
       "      <td>Sokoto</td>\n",
       "      <td>822</td>\n",
       "      <td>0</td>\n",
       "      <td>794</td>\n",
       "      <td>28</td>\n",
       "    </tr>\n",
       "    <tr>\n",
       "      <th>32</th>\n",
       "      <td>Jigawa</td>\n",
       "      <td>669</td>\n",
       "      <td>2</td>\n",
       "      <td>649</td>\n",
       "      <td>18</td>\n",
       "    </tr>\n",
       "    <tr>\n",
       "      <th>33</th>\n",
       "      <td>Yobe</td>\n",
       "      <td>638</td>\n",
       "      <td>4</td>\n",
       "      <td>625</td>\n",
       "      <td>9</td>\n",
       "    </tr>\n",
       "    <tr>\n",
       "      <th>34</th>\n",
       "      <td>Kebbi</td>\n",
       "      <td>480</td>\n",
       "      <td>10</td>\n",
       "      <td>454</td>\n",
       "      <td>16</td>\n",
       "    </tr>\n",
       "    <tr>\n",
       "      <th>35</th>\n",
       "      <td>Zamfara</td>\n",
       "      <td>375</td>\n",
       "      <td>0</td>\n",
       "      <td>366</td>\n",
       "      <td>9</td>\n",
       "    </tr>\n",
       "    <tr>\n",
       "      <th>36</th>\n",
       "      <td>Kogi</td>\n",
       "      <td>5</td>\n",
       "      <td>0</td>\n",
       "      <td>3</td>\n",
       "      <td>2</td>\n",
       "    </tr>\n",
       "  </tbody>\n",
       "</table>\n",
       "</div>"
      ],
      "text/plain": [
       "   States Affected No. of Cases (Lab Confirmed) No. of Cases (on admission)  \\\n",
       "0            Lagos                      104,286                       1,143   \n",
       "1              FCT                       29,535                           9   \n",
       "2           Rivers                       18,112                          -3   \n",
       "3           Kaduna                       11,675                           3   \n",
       "4          Plateau                       10,365                           4   \n",
       "5              Oyo                       10,352                           0   \n",
       "6              Edo                        7,928                           0   \n",
       "7            Delta                        5,858                         576   \n",
       "8             Ogun                        5,810                          11   \n",
       "9             Kano                        5,429                          11   \n",
       "10            Ondo                        5,173                         315   \n",
       "11       Akwa Ibom                        5,010                           6   \n",
       "12           Kwara                        4,691                         452   \n",
       "13           Gombe                        3,313                           8   \n",
       "14            Osun                        3,311                          29   \n",
       "15           Enugu                        2,952                          13   \n",
       "16        Nasarawa                        2,853                         469   \n",
       "17         Anambra                        2,825                          46   \n",
       "18             Imo                        2,691                           3   \n",
       "19           Ekiti                        2,466                           0   \n",
       "20         Katsina                        2,418                           0   \n",
       "21           Benue                        2,317                          88   \n",
       "22            Abia                        2,263                           0   \n",
       "23          Ebonyi                        2,064                          28   \n",
       "24          Bauchi                        2,028                           2   \n",
       "25           Borno                        1,629                           5   \n",
       "26          Taraba                        1,517                          32   \n",
       "27         Bayelsa                        1,373                           2   \n",
       "28         Adamawa                        1,312                         134   \n",
       "29           Niger                        1,183                         165   \n",
       "30     Cross River                          947                           0   \n",
       "31          Sokoto                          822                           0   \n",
       "32          Jigawa                          669                           2   \n",
       "33            Yobe                          638                           4   \n",
       "34           Kebbi                          480                          10   \n",
       "35         Zamfara                          375                           0   \n",
       "36            Kogi                            5                           0   \n",
       "\n",
       "   No. Discharged No. of Deaths  \n",
       "0         102,372           771  \n",
       "1          29,277           249  \n",
       "2          17,960           155  \n",
       "3          11,583            89  \n",
       "4          10,286            75  \n",
       "5          10,150           202  \n",
       "6           7,606           322  \n",
       "7           5,170           112  \n",
       "8           5,717            82  \n",
       "9           5,291           127  \n",
       "10          4,749           109  \n",
       "11          4,960            44  \n",
       "12          4,175            64  \n",
       "13          3,239            66  \n",
       "14          3,190            92  \n",
       "15          2,910            29  \n",
       "16          2,345            39  \n",
       "17          2,760            19  \n",
       "18          2,630            58  \n",
       "19          2,438            28  \n",
       "20          2,381            37  \n",
       "21          2,204            25  \n",
       "22          2,229            34  \n",
       "23          2,004            32  \n",
       "24          2,002            24  \n",
       "25          1,580            44  \n",
       "26          1,451            34  \n",
       "27          1,343            28  \n",
       "28          1,140            38  \n",
       "29            998            20  \n",
       "30            922            25  \n",
       "31            794            28  \n",
       "32            649            18  \n",
       "33            625             9  \n",
       "34            454            16  \n",
       "35            366             9  \n",
       "36              3             2  "
      ]
     },
     "execution_count": 70,
     "metadata": {},
     "output_type": "execute_result"
    }
   ],
   "source": [
    "df = pd.DataFrame(Covid19_rows, columns = Covid19_Table_titles)\n",
    "df"
   ]
  },
  {
   "cell_type": "markdown",
   "id": "701c0993",
   "metadata": {},
   "source": [
    "## Step 4 - Expoting into a csv file"
   ]
  },
  {
   "cell_type": "code",
   "execution_count": 76,
   "id": "b863ef43",
   "metadata": {},
   "outputs": [],
   "source": [
    "# Specify path for storing the csv file\n",
    "df.to_csv(r\"C:\\Users\\hp\\Desktop\\Python Scraping\\NCDC.csv\")"
   ]
  },
  {
   "cell_type": "code",
   "execution_count": null,
   "id": "fe80b222",
   "metadata": {},
   "outputs": [],
   "source": []
  }
 ],
 "metadata": {
  "kernelspec": {
   "display_name": "Python 3 (ipykernel)",
   "language": "python",
   "name": "python3"
  },
  "language_info": {
   "codemirror_mode": {
    "name": "ipython",
    "version": 3
   },
   "file_extension": ".py",
   "mimetype": "text/x-python",
   "name": "python",
   "nbconvert_exporter": "python",
   "pygments_lexer": "ipython3",
   "version": "3.11.3"
  }
 },
 "nbformat": 4,
 "nbformat_minor": 5
}
